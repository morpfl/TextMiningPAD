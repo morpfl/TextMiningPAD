{
 "cells": [
  {
   "cell_type": "markdown",
   "id": "217deb74",
   "metadata": {},
   "source": [
    "## Calculate False Negatives for Recall Calculation"
   ]
  },
  {
   "cell_type": "code",
   "execution_count": 1,
   "id": "2f6421fc",
   "metadata": {},
   "outputs": [],
   "source": [
    "recall_res_path = './analysis/recall_res_samples/recall_res_corpus4mw.txt'"
   ]
  },
  {
   "cell_type": "code",
   "execution_count": 2,
   "id": "b4beda74",
   "metadata": {},
   "outputs": [],
   "source": [
    "extracted_res_paths = [\n",
    "    './results/corpus4mw/baseline_local_max/res_baseline_dice_all.txt',\n",
    "    './results/corpus4mw/baseline_local_max/res_baseline_scp_all.txt',\n",
    "    './results/corpus4mw/baseline_local_max/res_baseline_mi_all.txt',\n",
    "    './results/corpus4mw/local_max_freq_bigger_5/res_freq_bigger_5_dice_all.txt',\n",
    "    './results/corpus4mw/local_max_freq_bigger_5/res_freq_bigger_5_scp_all.txt',\n",
    "    './results/corpus4mw/local_max_freq_bigger_5/res_freq_bigger_5_mi_all.txt',\n",
    "    './results/corpus4mw/local_max_stop_words/res_stop_words_dice_all.txt',\n",
    "    './results/corpus4mw/local_max_stop_words/res_stop_words_scp_all.txt',\n",
    "    './results/corpus4mw/local_max_stop_words/res_stop_words_mi_all.txt',\n",
    "]"
   ]
  },
  {
   "cell_type": "code",
   "execution_count": 3,
   "id": "a8de4f22",
   "metadata": {},
   "outputs": [],
   "source": [
    "false_negatives = dict()"
   ]
  },
  {
   "cell_type": "code",
   "execution_count": 4,
   "id": "986ff054",
   "metadata": {},
   "outputs": [],
   "source": [
    "def read_res_from_file(res_path):\n",
    "    res = []\n",
    "    with open(res_path, 'r') as res_file:\n",
    "        for line in res_file:\n",
    "            res.append(line.strip().lower())\n",
    "    return res"
   ]
  },
  {
   "cell_type": "code",
   "execution_count": 5,
   "id": "37207321",
   "metadata": {},
   "outputs": [],
   "source": [
    "recall_res = read_res_from_file(recall_res_path)"
   ]
  },
  {
   "cell_type": "code",
   "execution_count": 6,
   "id": "f0d42117",
   "metadata": {},
   "outputs": [],
   "source": [
    "import os.path\n",
    "\n",
    "for extracted_res_path in extracted_res_paths:\n",
    "    \n",
    "    extracted_res = read_res_from_file(extracted_res_path)\n",
    "    \n",
    "    false_negative_count = 0\n",
    "    \n",
    "    for recall_re in recall_res:\n",
    "        if recall_re not in extracted_res:\n",
    "            false_negative_count += 1\n",
    "    \n",
    "    \n",
    "    extracted_res_filename = os.path.basename(extracted_res_path)\n",
    "    false_negatives[extracted_res_filename] = false_negative_count\n",
    "    "
   ]
  },
  {
   "cell_type": "code",
   "execution_count": 7,
   "id": "cf0c6b46",
   "metadata": {},
   "outputs": [],
   "source": [
    "def write_statistics_to_file(results_directory, filename, statistics):\n",
    "    with open(os.path.join(results_directory, filename), 'w') as f:\n",
    "        for stat_name, stat in statistics.items():\n",
    "            f.write(f\"{stat_name}: {stat}\\n\")"
   ]
  },
  {
   "cell_type": "code",
   "execution_count": 8,
   "id": "3bcf443c",
   "metadata": {},
   "outputs": [
    {
     "data": {
      "text/plain": [
       "{'res_baseline_dice_all.txt': 144,\n",
       " 'res_baseline_scp_all.txt': 139,\n",
       " 'res_baseline_mi_all.txt': 143,\n",
       " 'res_freq_bigger_5_dice_all.txt': 166,\n",
       " 'res_freq_bigger_5_scp_all.txt': 166,\n",
       " 'res_freq_bigger_5_mi_all.txt': 165,\n",
       " 'res_stop_words_dice_all.txt': 155,\n",
       " 'res_stop_words_scp_all.txt': 152,\n",
       " 'res_stop_words_mi_all.txt': 154}"
      ]
     },
     "execution_count": 8,
     "metadata": {},
     "output_type": "execute_result"
    }
   ],
   "source": [
    "false_negatives"
   ]
  },
  {
   "cell_type": "code",
   "execution_count": 9,
   "id": "5f9a0114",
   "metadata": {},
   "outputs": [],
   "source": [
    "write_statistics_to_file('./results/corpus4mw', 'false_negatives.txt', false_negatives)"
   ]
  }
 ],
 "metadata": {
  "kernelspec": {
   "display_name": "Python 3 (ipykernel)",
   "language": "python",
   "name": "python3"
  },
  "language_info": {
   "codemirror_mode": {
    "name": "ipython",
    "version": 3
   },
   "file_extension": ".py",
   "mimetype": "text/x-python",
   "name": "python",
   "nbconvert_exporter": "python",
   "pygments_lexer": "ipython3",
   "version": "3.9.12"
  }
 },
 "nbformat": 4,
 "nbformat_minor": 5
}
