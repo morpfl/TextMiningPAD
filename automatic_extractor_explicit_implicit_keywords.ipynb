{
 "cells": [
  {
   "cell_type": "markdown",
   "metadata": {},
   "source": [
    "# Automatic Extraction of Explicit and Implicit Keywords"
   ]
  },
  {
   "cell_type": "markdown",
   "metadata": {},
   "source": [
    "> 1) Extract Relevant Expressions (REs) from a set of several documents, by using LocalMaxs extractor you have implemented. Create adequate criteria to select the most informative REs."
   ]
  },
  {
   "cell_type": "markdown",
   "metadata": {},
   "source": [
    "Read 20 documents and create corpus out of it."
   ]
  },
  {
   "cell_type": "code",
   "execution_count": 31,
   "metadata": {},
   "outputs": [],
   "source": [
    "from pathlib import Path\n",
    "from collections import defaultdict\n",
    "from local_max_all_metrics import tokenize\n",
    "import os\n",
    "CORPUS_PATH = \"./corpus2mw\"\n",
    "CORPUS_NAME = 'corpus2mw'\n",
    "\n",
    "corpus = defaultdict(tuple)\n",
    "doc_names = []\n",
    "# open all files starting with \"fil\" in corpus path\n",
    "doc_count = 1\n",
    "for doc_path in Path(CORPUS_PATH).glob('fil_*'):\n",
    "    # read whole document and strip new lines\n",
    "    doc = Path(doc_path).read_text().replace('\\n', '')\n",
    "    # standardize space characters\n",
    "    doc = doc.replace(u'\\xa0', u' ').replace(u'\\u3000', u' ').replace(u'\\u2009', u' ')\n",
    "    \n",
    "    doc_name = os.path.basename(doc_path)\n",
    "    doc_names.append(doc_name)\n",
    "    corpus[doc_name] = tokenize(doc)\n",
    "    doc_count = doc_count + 1\n",
    "    if doc_count == 20: break\n",
    "\n",
    "corpus_words = [word for doc_list in corpus.values() for word in doc_list]\n",
    "corpus_size = len(corpus_words)"
   ]
  },
  {
   "cell_type": "code",
   "execution_count": 1,
   "metadata": {},
   "outputs": [],
   "source": [
    "# until we finish LocalMaxs extractor use mock list of REs\n",
    "res = ['John F. Kennedy', 'he said', \n",
    "       'in the United States of America', \n",
    "       'United States of America',\n",
    "       'fun park']\n",
    "# still might be useful to have the corpus \n",
    "# (maybe we can export creating it from the other notebook)\n",
    "corpus = []"
   ]
  },
  {
   "cell_type": "markdown",
   "metadata": {},
   "source": [
    "Filter-Implementation to select most informative REs:"
   ]
  },
  {
   "cell_type": "code",
   "execution_count": 21,
   "metadata": {},
   "outputs": [],
   "source": [
    "# return only res which appear at least min_freq times in each document\n",
    "def min_freq(res, corpus, min_freq):\n",
    "    res_filtered = []\n",
    "    for res_item in res:\n",
    "        # count how often res_item appears in corpus\n",
    "        count = 0\n",
    "        for doc_tokens in corpus:\n",
    "            if res_item in doc_tokens:\n",
    "                count += 1\n",
    "        # if count is greater than min_freq, add res_item to res_filtered\n",
    "        if count >= min_freq:\n",
    "            res_filtered.append(res_item)\n",
    "    return res_filtered"
   ]
  },
  {
   "cell_type": "code",
   "execution_count": 22,
   "metadata": {},
   "outputs": [],
   "source": [
    "# compute the tf_idf for each res inside of each document and return the res sorted from highest to lowest\n",
    "def tf_idf(res, corpus):\n",
    "    # create a dictionary with the res as keys and empty lists as values\n",
    "    tf_idf_dict = {res_item: [] for res_item in res}\n",
    "    # for each document in corpus\n",
    "    for doc_tokens in corpus:\n",
    "        # for each res_item in res\n",
    "        for res_item in res:\n",
    "            # count how often res_item appears in doc_tokens\n",
    "            count = 0\n",
    "            for token in doc_tokens:\n",
    "                if res_item == token:\n",
    "                    count += 1\n",
    "            # if count is greater than 0, add count to tf_idf_dict\n",
    "            if count > 0:\n",
    "                tf_idf_dict[res_item].append(count)\n",
    "    # for each res_item in res\n",
    "    for res_item in res:\n",
    "        # compute the tf_idf for res_item\n",
    "        tf_idf_dict[res_item] = sum(tf_idf_dict[res_item]) / len(corpus)\n",
    "    # sort tf_idf_dict by value (tf_idf)\n",
    "    tf_idf_dict_sorted = sorted(tf_idf_dict.items(), key=lambda x: x[1], reverse=True)\n",
    "    # return the res sorted by tf_idf\n",
    "    return [res_item[0] for res_item in tf_idf_dict_sorted]\n",
    "    "
   ]
  },
  {
   "cell_type": "markdown",
   "metadata": {},
   "source": [
    "Compute relevant expressions for documents."
   ]
  },
  {
   "cell_type": "code",
   "execution_count": 23,
   "metadata": {},
   "outputs": [
    {
     "name": "stdout",
     "output_type": "stream",
     "text": [
      "[('party', 'in'), ('doc', 'id'), ('the', 'global'), ('he', 'participated'), ('gwf', 'world'), ('championship', 'tournament'), ('in', 'june'), ('during', 'the'), ('he', 'would'), ('the', 'blue'), ('north', 'american'), ('the', 'opening'), ('feet', 'at'), ('the', 'chief'), ('called', 'for'), ('senate', 'investigation'), ('including', 'the'), ('council', 'of'), ('and', 'the'), ('missions', 'of'), ('for', 'an'), ('members', 'of'), ('from', 'the'), ('in', 'response'), ('all', 'the'), ('in', 'his'), ('minister', 'of'), ('of', 'india'), ('chief', 'minister'), ('the', 'state'), ('participates', 'in'), ('its', 'own'), ('the', 'song'), ('won', 'the'), ('three', 'times'), ('on', 'the'), ('with', 'a'), ('the', 'album'), ('embarked', 'on'), ('the', 'world'), ('for', 'which'), ('in', 'australia'), ('her', 'the'), ('and', 'released'), ('she', 'sang'), ('in', '2006'), ('sunday', 'night'), ('all', 'day'), ('which', 'is'), ('the', 'film'), ('her', 'name'), ('name', 'to'), ('a', 'special'), ('edition', 'of'), ('which', 'was'), ('was', 'released'), ('was', 'born'), ('son', 'of'), ('he', 'is'), ('was', 'not'), ('into', 'a'), ('his', 'father'), ('between', 'a'), ('a', 'widow'), ('each', 'other'), ('at', 'a'), ('a', '45'), ('a', 'rose'), ('the', 'legend'), ('without', 'a'), ('shows', 'the'), ('and', 'a'), ('beginning', 'of'), ('version', 'of'), ('made', 'her'), ('which', 'she'), ('in', 'rome'), ('the', 'role'), ('regio', 'di'), ('throughout', 'the'), ('role', 'in'), ('in', 'spain'), ('was', 'named'), ('the', 'screen'), ('called', 'the'), ('owned', 'by'), ('the', 'data'), ('began', 'in'), ('in', '1990'), ('and', 'currently'), ('have', 'been'), ('a', 'million'), ('and', 'one'), ('into', 'the'), ('the', 'art'), ('art', 'and'), ('art', 'related'), ('a', 'number'), ('to', 'join'), ('southern', 'league'), ('the', 'ahoms'), ('can', 'be'), ('of', 'his'), ('them', 'to'), ('to', 'perform'), ('me', 'phi'), ('of', 'a'), ('a', 'year'), ('has', 'been'), ('before', '1945'), ('east', 'prussia'), ('and', 'he'), ('the', 'ring'), ('and', 'it'), ('paste', 'copy'), ('a', 'little'), ('that', 'he'), ('that', 'she'), ('who', 'is'), ('secretary', 'of'), ('the', 'previous'), ('of', 'any'), ('does', 'not'), ('as', 'he'), ('as', 'his'), ('the', 'office'), ('house', 'of'), ('the', 'two'), ('images', 'of'), ('being', 'the'), ('the', 'most'), ('following', 'table'), ('and', 'that'), ('that', 'have'), ('a', 'national'), ('in', 'october'), ('bass', 'and'), ('tom', 'thumb'), ('and', 'explored'), ('had', 'been'), ('in', 'march'), ('on', 'a'), ('in', 'a'), ('which', 'they'), ('down', 'the'), ('out', 'in'), ('it', 'to'), ('to', 'be'), ('resulted', 'in'), ('the', 'local'), ('and', 'other'), ('just', 'a'), ('years', 'in'), ('were', 'found'), ('dead', 'wood'), ('ants', 'are'), ('and', 'their'), ('the', 'termites'), ('also', 'in'), ('numbers', 'in'), ('they', 'are'), ('but', 'they'), ('play', 'a'), ('such', 'as'), ('often', 'attract'), ('small', 'fish'), ('the', 'water'), ('from', 'a'), ('that', 'is'), ('written', 'in'), ('released', 'under'), ('the', 'gnu'), ('the', 'phocians'), ('the', 'sea'), ('the', 'battle'), ('to', 'reach'), ('was', 'either'), ('designed', 'to'), ('continued', 'to'), ('the', 'greek'), ('that', 'the'), ('but', 'it'), ('it', 'was'), ('became', 'an'), ('shot', 'down'), ('and', 'was'), ('credited', 'with'), ('in', '1976'), ('and', 'her'), ('a', 'big'), ('in', 'her'), ('plans', 'and'), ('the', 'company'), ('new', 'york'), ('city', 'and'), ('up', 'the'), ('the', 'majority'), ('the', 'ship'), ('rumored', 'to'), ('served', 'on'), ('a', 'slaver'), ('the', 'idea'), ('officers', 'and'), ('or', 'a'), ('the', 'town'), ('range', 'of'), ('the', 'suburb'), ('due', 'to'), ('through', 'the'), ('a', 'small'), ('was', 'produced'), ('used', 'to'), ('became', 'a'), ('a', 'major'), ('the', 'show'), ('mary', 'livingstone'), ('years', 'later'), ('even', 'in'), ('was', 'converted'), ('to', 'a'), ('a', 'torpedo'), ('1864', 'and'), ('she', 'was'), ('league', 'island'), ('back', 'to'), ('rock', 'band'), ('president', 'of'), ('and', 'partners'), ('examples', 'of'), ('of', 'these'), ('in', '1952'), ('in', '2005'), ('on', 'july'), ('over', 'a'), ('a', 'month'), ('return', 'to'), ('to', 'form'), ('the', 'year'), ('rbis', 'in'), ('brute', 'man'), ('in', 'which'), ('universal', 'pictures'), ('advantage', 'of'), ('did', 'not'), ('for', 'his'), ('appeared', 'in'), ('began', 'to'), ('known', 'as'), ('and', 'in'), ('flashback', 'scenes'), ('where', 'the'), ('a', 'high'), ('high', 'school'), ('between', 'the'), ('fitted', 'with'), ('to', 'make'), ('in', 'several'), ('the', 'u'), ('the', 'bengal'), ('scale', 'of'), ('for', 'example'), ('a', 'naval'), ('the', 'army'), ('united', 'states'), ('elections', 'in'), ('in', 'may'), ('competed', 'in'), ('the', '2012'), ('festival', 'in'), ('the', 'jazz'), ('band', 'won'), ('concert', 'band'), ('jazz', 'choir'), ('concert', 'choir'), ('the', 'highest'), ('the', 'former'), ('mistar', 'urdd'), ('a', 'musical'), ('producer', 'who'), ('to', 'play'), ('south', 'korea'), ('able', 'to'), ('tribune', 'live'), ('award', 'for'), ('saying', 'that'), ('of', 'this'), ('this', 'is'), ('most', 'of'), ('of', 'their'), ('as', 'of'), ('there', 'were'), ('at', 'least'), ('police', 'and'), ('produced', 'by'), ('by', 'one'), ('both', 'the'), ('and', 'have'), ('the', 'british'), ('in', 'august'), ('the', 'american'), ('and', 'to'), ('when', 'the'), ('tf', '17'), ('the', 'long'), ('campaign', 'for'), ('indecent', 'obsession'), ('in', 'brisbane'), ('feature', 'film'), ('on', 'guitar'), ('replaced', 'by'), ('up', 'to'), ('material', 'by'), ('signed', 'with'), ('record', 'label'), ('the', 'third'), ('were', 'developed'), ('separate', 'levels'), ('and', 'aprons'), ('is', 'one'), ('with', 'two'), ('monks', 'mound'), ('to', 'in'), ('off', 'their'), ('the', 'station'), ('with', 'additional'), ('up', 'until'), ('july', '2012'), ('the', 'syrian'), ('of', 'that'), ('according', 'to'), ('access', 'to'), ('forest', 'sharp'), ('tailed', 'snake'), ('is', 'not'), ('described', 'as'), ('has', 'a'), ('the', 'northern'), ('parts', 'of'), ('is', 'used'), ('battlecross', 'was'), ('trespass', 'america'), ('–', 'august'), ('across', 'the'), ('began', 'with'), ('but', 'was'), ('on', 'august'), ('the', 'new'), ('seven', 'runs'), ('runs', 'in'), ('cassius', 'dio'), ('a', 'young'), ('this', 'was'), ('followed', 'by'), ('1', 'july'), ('on', '18'), ('a', 'position'), ('returned', 'to'), ('lived', 'in'), ('in', 'london'), ('of', 'three'), ('and', 'then'), ('his', 'early'), ('early', 'career'), ('credits', 'include'), ('of', 'men'), ('after', 'his'), ('prison', 'in'), ('was', 'to'), ('–', '6'), ('which', 'he'), ('more', 'than'), ('featured', 'in'), ('in', 'an'), ('in', 'december'), ('end', 'of'), ('the', 'design'), ('the', 'vantage'), ('and', 'used'), ('like', 'the'), ('three', 'or'), ('or', 'more'), ('for', 'three'), ('national', 'parks'), ('was', 'destroyed'), ('a', 'new'), ('a', 'short'), ('the', 'weekend'), ('00', 'p'), ('march', '2014'), ('was', 'an'), ('employed', 'in'), ('until', 'his'), ('in', '1954'), ('tian', 'dan'), ('cheng', 'kung'), ('intended', 'to'), ('going', 'to'), ('very', 'much'), ('rocn', 'to'), ('such', 'a'), ('to', 'abandon'), ('seen', 'as'), ('to', 'help'), ('to', 'high'), ('as', 'in'), ('submillimeter', 'telescope'), ('herschel', 'space'), ('which', 'also'), ('british', 'columbia'), ('much', 'of'), ('the', '2010'), ('a', 'polarimeter'), ('magnetic', 'fields'), ('if', 'the'), ('in', 'this'), ('a', 'valuable'), ('a', 'properly'), ('they', 'had'), ('the', 'celts'), ('held', 'in'), ('was', 'found'), ('site', 'of'), ('section', 'of'), ('loss', 'of'), ('section', 'from'), ('rest', 'of'), ('was', 'closed'), ('in', '1930'), ('branch', 'was'), ('was', 'abandoned'), ('in', 'february'), ('had', 'not'), ('used', 'for'), ('the', 'branch'), ('used', 'as'), ('canal', 'was'), ('two', 'years'), ('had', 'begun'), ('south', 'africa'), ('which', 'the'), ('against', 'this'), ('in', 'natal'), ('on', 'this'), ('of', 'cotton'), ('was', 'very'), ('very', 'high'), ('by', 'messrs'), ('before', 'losing'), ('the', 'last'), ('he', 'had'), ('inherited', 'from'), ('from', 'his'), ('s', 'son'), ('the', 'property'), ('was', 'used'), ('he', 'also'), ('has', 'no'), ('birdie', 'is'), ('the', 'general'), ('leader', 'of'), ('the', 'saturdays'), ('if', 'they'), ('the', 'flute'), ('the', 'nagas'), ('s', 'powers'), ('were', 'too'), ('west', 'germany'), ('the', 'kbw'), ('there', 'are'), ('in', 'bačka'), ('defeated', 'by'), ('the', 'best'), ('command', 'of'), ('the', 'title'), ('de', 'la'), ('outside', 'of'), ('the', 'modern'), ('snohomish', 'county'), ('the', 'mrd'), ('not', 'be'), ('in', '1989'), ('list', 'of'), ('european', 'committee'), ('communist', 'party'), ('was', 'founded'), ('the', 'ser'), ('permission', 'to'), ('a', 'line'), ('line', 'from'), ('st', 'leonards'), ('the', 'lbsc'), ('than', 'the'), ('tunbridge', 'wells'), ('the', 'high'), ('opened', 'on'), ('home', 'ground'), ('shaun', 'udal'), ('who', 'took'), ('took', 'two'), ('caught', 'behind'), ('them', 'as'), ('all', 'season'), ('has', 'an'), ('not', 'being'), ('the', 'top'), ('which', 'includes'), ('s', 'efforts'), ('on', 'it'), ('in', 'india'), ('hosts', 'agree'), ('level', 'protocol'), ('referred', 'to'), ('has', 'the'), ('to', 'transfer'), ('virtual', 'circuit'), ('for', 'each'), ('refer', 'to'), ('had', 'a'), ('the', 'nmsd'), ('after', 'the'), ('study', 'of'), ('a', 'radio'), ('nominated', 'for'), ('is', 'given'), ('temple', 'of'), ('of', 'saint'), ('saint', 'sava'), ('was', 'built'), ('years', 'as'), ('film', 'was'), ('were', 'the'), ('guild', 'award'), ('given', 'by'), ('based', 'on'), ('in', 'europe'), ('and', 'i'), ('i', 'have'), ('a', 'first'), ('the', 'gradient'), ('began', 'his'), ('a', 'one'), ('owner', 'of'), ('second', 'round'), ('met', 'de'), ('van', 'een'), ('and', 'aviva'), ('the', 'mother'), ('the', 'hospital'), ('william', 'i'), ('wicker', 'introduced'), ('safety', 'commission'), ('prosecuting', 'officers'), ('the', 'bill'), ('governor', 'j'), ('preus', 'supported'), ('man', 'department'), ('state', 'police'), ('peace', 'officers'), ('state', 'constabulary'), ('wave', 'of'), ('way', 'to'), ('deal', 'with'), ('that', 'was'), ('hereditary', 'chiefs'), ('alliance', 'with'), ('begins', 'at'), ('took', 'over'), ('over', 'the'), ('the', 'line'), ('conductor', 'of'), ('and', '1'), ('the', 'county'), ('the', 'population'), ('head', 'of'), ('and', 'began'), ('orders', 'to'), ('the', 'turks'), ('along', 'with'), ('leo', 'v'), ('the', '1980s'), ('students', 'with'), ('learning', 'to'), ('no', 'longer'), ('asked', 'to'), ('to', 'shoot'), ('series', 'of'), ('abu', 'nidal'), ('group', 'had'), ('his', 'retirement'), ('after', 'he'), ('saunas', 'in'), ('in', 'finland'), ('were', 'heated'), ('in', 'that'), ('amounts', 'of'), ('to', '8'), ('mill', 'mountain'), ('illuminated', 'in'), ('work', 'for'), ('has', 'made'), ('to', 'mcelwee'), ('s', 'march'), ('and', 'talk'), ('a', 'very'), ('s', 'a'), ('the', 'group'), ('mgm', 'records'), ('records', 'for'), ('the', 'us'), ('the', 'thyiades'), ('the', 'men'), ('took', 'part'), ('bird', 'seed'), ('road', 'runner'), ('wile', 'e'), ('cartoons', 'short'), ('the', 'french'), ('outside', 'beijing'), ('beijing', 'national'), ('olympic', 'green'), ('because', 'of'), ('the', 'network'), ('game', 'show'), ('reruns', 'of'), ('some', 'original'), ('also', 'aired'), ('revival', 'of'), ('the', '2000'), ('other', 'attributes'), ('computer', 'graphics'), ('experimental', 'film'), ('film', 'and'), ('line', 't'), ('national', 'highway'), ('y', 'bandana'), ('disciplines', 'of'), ('lack', 'of'), ('ha', 'ha'), ('party', 'of', 'the'), ('he', 'participated', 'in'), ('in', 'the', 'gwf'), ('day', 'and', 'night'), ('members', 'of', 'the'), ('participates', 'in', 'the'), ('eurovision', 'song', 'contest'), ('and', 'finally', 'in'), ('by', 'a', 'female'), ('was', 'born', 'in'), ('the', 'son', 'of'), ('his', 'father', 'was'), ('to', 'each', 'other'), ('beginning', 'of', 'the'), ('city', 'of', 'london'), ('at', 'the', 'teatro'), ('spent', 'the', 'next'), ('teatro', 'regio', 'di'), ('as', 'one', 'of'), ('owned', 'by', 'the'), ('by', 'the', 'german'), ('in', 'the', 'area'), ('the', 'southern', 'league'), ('the', 'god', 'of'), ('area', 'was', 'part'), ('part', 'of', 'germany'), ('1945', 'the', 'area'), ('is', 'a', 'village'), ('out', 'of', 'the'), ('was', 'the', 'first'), ('the', 'following', 'table'), ('some', 'of', 'the'), ('only', 'a', 'few'), ('such', 'as', 'the'), ('attract', 'a', 'retinue'), ('released', 'under', 'the'), ('retired', 'as', 'a'), ('is', 'also', 'very'), ('for', 'a', 'more'), ('new', 'york', 'city'), ('a', 'part', 'of'), ('part', 'of', 'the'), ('and', 'is', 'the'), ('is', 'the', 'first'), ('due', 'to', 'the'), ('at', 'the', 'time'), ('the', 'time', 'of'), ('as', 'a', 'result'), ('at', 'league', 'island'), ('is', 'an', 'american'), ('president', 'of', 'the'), ('as', 'well', 'as'), ('he', 'served', 'as'), ('in', 'the', 'italian'), ('of', 'the', 'season'), ('he', 'was', 'a'), ('member', 'of', 'the'), ('the', 'brute', 'man'), ('one', 'of', 'several'), ('was', 'cast', 'as'), ('known', 'as', 'the'), ('to', 'join', 'the'), ('competed', 'in', 'the'), ('choir', 'won', '1st'), ('the', 'concert', 'choir'), ('is', 'found', 'in'), ('he', 'did', 'not'), ('not', 'have', 'a'), ('for', 'south', 'korea'), ('was', 'named', 'the'), ('chicago', 'tribune', 'live'), ('in', 'the', 'uk'), ('the', 'city', 'of'), ('an', 'area', 'of'), ('was', 'one', 'of'), ('the', 'united', 'states'), ('the', 'first', 'of'), ('was', 'replaced', 'by'), ('that', 'they', 'were'), ('to', 'have', 'been'), ('in', 'the', 'late'), ('the', 'forest', 'sharp'), ('tailed', 'snake', 'is'), ('it', 'has', 'been'), ('of', 'the', 'foster'), ('foster', 'county', 'courthouse'), ('to', 'be', 'the'), ('he', 'was', 'appointed'), ('in', 'prison', 'in'), ('it', 'is', 'also'), ('receive', 'the', 'same'), ('the', 'construction', 'of'), ('álvaro', 'de', 'bazán'), ('seen', 'as', 'a'), ('herschel', 'space', 'observatory'), ('flight', 'of', 'blast'), ('of', 'the', 'exponential'), ('at', 'the', 'royal'), ('heads', 'of', 'enemies'), ('in', 'the', 'same'), ('of', 'which', 'were'), ('the', 'loss', 'of'), ('of', 'the', 'canal'), ('the', 'section', 'from'), ('rest', 'of', 'the'), ('used', 'as', 'the'), ('the', 'canal', 'was'), ('of', 'the', 'national'), ('to', 'help', 'the'), ('in', 'south', 'africa'), ('they', 'were', 'not'), ('gerold', 'and', 'urich'), ('before', 'losing', 'to'), ('down', 'in', 'the'), ('is', 'located', 'on'), ('legion', 'of', 'garuda'), ('leader', 'of', 'the'), ('in', 'west', 'germany'), ('defeated', 'by', 'the'), ('under', 'the', 'command'), ('the', 'band', 'is'), ('european', 'committee', 'for'), ('and', 'shaun', 'udal'), ('in', 'the', 'united'), ('for', 'work', 'on'), ('which', 'includes', 'the'), ('more', 'than', 'a'), ('the', 'hosts', 'agree'), ('was', 'the', 'only'), ('was', 'nominated', 'for'), ('given', 'by', 'the'), ('to', 'play', 'in'), ('owner', 'of', 'the'), ('the', 'second', 'round'), ('nolan', 'and', 'george'), ('introduced', 'a', 'bill'), ('create', 'a', 'state'), ('activities', 'of', 'all'), ('all', 'public', 'peace'), ('peace', 'and', 'prosecuting'), ('bill', 'to', 'create'), ('create', 'a', '100'), ('department', 'of', 'state'), ('police', 'to', 'act'), ('act', 'as', 'peace'), ('a', 'state', 'constabulary'), ('of', 'the', 'wet'), ('of', 'the', 'hereditary'), ('conductor', 'of', 'the'), ('he', 'has', 'been'), ('per', 'square', 'mile'), ('were', 'marked', 'by'), ('many', 'of', 'the'), ('at', 'the', 'university'), ('no', 'longer', 'in'), ('i', 'was', 'just'), ('of', 'the', 'animals'), ('records', 'for', 'the'), ('of', 'the', 'great'), ('events', 'were', 'held'), ('along', 'with', 'the'), ('on', 'line', 't'), ('in', 'the', 'gwf', 'world'), ('the', 'eurovision', 'song', 'contest'), ('the', 'beginning', 'of', 'the'), ('as', 'one', 'of', 'the'), ('often', 'attract', 'a', 'retinue'), ('as', 'a', 'result', 'of'), ('1st', 'place', 'overall', 'jazz'), ('choir', 'won', '1st', 'place'), ('was', 'one', 'of', 'the'), ('of', 'the', 'foster', 'county'), ('the', 'herschel', 'space', 'observatory'), ('the', 'heads', 'of', 'enemies'), ('the', 'rest', 'of', 'the'), ('they', 'were', 'not', 'allowed'), ('the', 'leader', 'of', 'the'), ('under', 'the', 'command', 'of'), ('wicker', 'introduced', 'a', 'bill'), ('create', 'a', 'state', 'public'), ('state', 'public', 'safety', 'commission'), ('activities', 'of', 'all', 'public'), ('department', 'of', 'state', 'police'), ('state', 'police', 'to', 'act'), ('act', 'as', 'peace', 'officers'), ('of', 'the', 'hereditary', 'chiefs'), ('took', 'part', 'in', 'the'), ('at', 'the', 'university', 'of'), ('area', 'was', 'part', 'of', 'germany'), ('1945', 'the', 'area', 'was', 'part'), ('often', 'attract', 'a', 'retinue', 'of'), ('won', '1st', 'place', 'overall', 'jazz'), ('choir', 'won', '1st', 'place', 'overall'), ('of', 'the', 'foster', 'county', 'courthouse'), ('they', 'were', 'not', 'allowed', 'to'), ('create', 'a', 'state', 'public', 'safety'), ('activities', 'of', 'all', 'public', 'peace'), ('public', 'peace', 'and', 'prosecuting', 'officers'), ('bill', 'to', 'create', 'a', '100'), ('man', 'department', 'of', 'state', 'police'), ('police', 'to', 'act', 'as', 'peace'), ('a', 'bill', 'to', 'create', 'a'), ('create', 'a', 'state', 'public', 'safety', 'commission'), ('all', 'public', 'peace', 'and', 'prosecuting', 'officers'), ('department', 'of', 'state', 'police', 'to', 'act'), ('police', 'to', 'act', 'as', 'peace', 'officers'), ('of', 'the', 'hereditary', 'chiefs', 'of', 'the'), ('1945', 'the', 'area', 'was', 'part', 'of', 'germany'), ('activities', 'of', 'all', 'public', 'peace', 'and', 'prosecuting'), ('man', 'department', 'of', 'state', 'police', 'to', 'act'), ('state', 'police', 'to', 'act', 'as', 'peace', 'officers')]\n"
     ]
    }
   ],
   "source": [
    "from local_max_all_metrics import local_max, calculate_n_gram_frequencies, minimum_frequency_filter, special_characters_filter, SPECIAL_CHARACTERS, mi_f\n",
    "\n",
    "max_re_size = 7\n",
    "\n",
    "n_gram_freq_dict = calculate_n_gram_frequencies(corpus, max_re_size + 1, corpus_size)\n",
    "\n",
    "filtered_n_gram_freq_dict = minimum_frequency_filter(n_gram_freq_dict, 2)\n",
    "filtered_n_gram_freq_dict = special_characters_filter(filtered_n_gram_freq_dict, SPECIAL_CHARACTERS)\n",
    "relevant_expressions = local_max(corpus, max_re_size, filtered_n_gram_freq_dict, mi_f)"
   ]
  },
  {
   "cell_type": "code",
   "execution_count": null,
   "metadata": {},
   "outputs": [],
   "source": [
    "#TODO:\n",
    "# 1. calculate n-gram frequencies for every document\n",
    "# 2. get relevant expressions for every document\n",
    "# 3. calculate most relevant"
   ]
  },
  {
   "cell_type": "code",
   "execution_count": 3,
   "metadata": {},
   "outputs": [],
   "source": [
    "#!python -m spacy download en_core_web_sm\n",
    "import spacy"
   ]
  },
  {
   "cell_type": "code",
   "execution_count": 4,
   "metadata": {},
   "outputs": [],
   "source": [
    "x = \"John F. Kennedy said in the United States of America that the United States of America is a fun park\"\n",
    "\n",
    "def get_highest_word_similarity(words):\n",
    "    #create a loop comparing each entry in x with every other entry in x\n",
    "    similarities = []\n",
    "    nlp = spacy.load('en_core_web_sm')\n",
    "    tokens = nlp(words)\n",
    "    for token1 in range(len(tokens)):\n",
    "        for token2 in range(token1+1,len(tokens)):\n",
    "            similarities.append([tokens[token1].similarity(tokens[token2]),tokens[token1],tokens[token2]])\n",
    "    #return the similarities sorted by highest to lowest\n",
    "    return sorted(similarities, key=lambda x: x[0], reverse=True)\n",
    "\n",
    "    "
   ]
  },
  {
   "cell_type": "code",
   "execution_count": 5,
   "metadata": {},
   "outputs": [
    {
     "name": "stdout",
     "output_type": "stream",
     "text": [
      "[[1.0, the, the], [1.0, United, United], [1.0, States, States], [1.0, of, of], [1.0, America, America], [0.7141181826591492, F., United], [0.7137698531150818, F., United], [0.6824235916137695, John, F.], [0.6668247580528259, Kennedy, America], [0.6625233888626099, Kennedy, States], [0.653134286403656, Kennedy, States], [0.6440538167953491, in, of], [0.6406058669090271, John, United], [0.6386597156524658, in, of], [0.6230368614196777, John, United], [0.5909967422485352, States, America], [0.5669664144515991, States, America], [0.5455108880996704, States, America], [0.5390477776527405, America, States], [0.5074913501739502, the, a], [0.4755392372608185, United, States], [0.4671423137187958, Kennedy, America], [0.46241238713264465, States, United], [0.4611896872520447, United, States], [0.4545450806617737, F., Kennedy], [0.44691920280456543, United, States], [0.42313408851623535, the, a], [0.4203069508075714, United, fun], [0.420208215713501, Kennedy, United], [0.4031030237674713, Kennedy, United], [0.36729830503463745, United, fun], [0.3603510558605194, United, America], [0.3560108244419098, F., fun], [0.35421305894851685, John, Kennedy], [0.3380669951438904, John, States], [0.332662433385849, United, America], [0.32558590173721313, John, States], [0.31622499227523804, F., America], [0.30325183272361755, John, the], [0.3014586269855499, F., States], [0.2910008728504181, F., States], [0.2785452604293823, John, America], [0.2755976915359497, United, America], [0.2665531635284424, said, is], [0.2572554051876068, John, fun], [0.23765981197357178, the, United], [0.2369219809770584, the, United], [0.232492595911026, America, United], [0.22049683332443237, Kennedy, park], [0.20894642174243927, the, America], [0.2068757861852646, John, America], [0.20368902385234833, States, of], [0.19427120685577393, of, States], [0.19364389777183533, United, the], [0.19010388851165771, America, park], [0.18849852681159973, F., America], [0.18254294991493225, fun, park], [0.177400141954422, the, of], [0.17157317698001862, America, fun], [0.1671276092529297, States, is], [0.1664218306541443, States, of], [0.16615770757198334, America, park], [0.16259333491325378, States, is], [0.15576447546482086, States, park], [0.1516096442937851, the, America], [0.15087749063968658, F., the], [0.15010789036750793, States, of], [0.14942733943462372, of, that], [0.14781983196735382, John, park], [0.1411113739013672, the, States], [0.13951438665390015, Kennedy, fun], [0.13639536499977112, Kennedy, the], [0.13638368248939514, America, is], [0.13236215710639954, the, United], [0.131443053483963, America, that], [0.13142354786396027, the, States], [0.1265127956867218, America, the], [0.12469533085823059, Kennedy, the], [0.12443234026432037, John, of], [0.12427370995283127, a, fun], [0.12141933292150497, in, is], [0.11889301985502243, that, of], [0.118589386343956, in, the], [0.11745180189609528, F., the], [0.11602675169706345, the, States], [0.11306346207857132, Kennedy, is], [0.11297371238470078, the, America], [0.1120702475309372, that, the], [0.11103803664445877, United, a], [0.10931377857923508, John, of], [0.1061611920595169, States, the], [0.1045813038945198, the, of], [0.09992748498916626, States, park], [0.09937345236539841, in, States], [0.0915791243314743, in, States], [0.09120852500200272, of, United], [0.08570050448179245, of, America], [0.08487194776535034, United, of], [0.08429425954818726, of, is], [0.0820918157696724, Kennedy, in], [0.0809926986694336, United, of], [0.08077644556760788, of, America], [0.08026247471570969, of, America], [0.08008953183889389, United, park], [0.07487097382545471, F., of], [0.07292059808969498, United, of], [0.07279253005981445, of, a], [0.06308745592832565, in, America], [0.061548732221126556, America, is], [0.06147833168506622, of, a], [0.06035907566547394, John, that], [0.05912191793322563, John, the], [0.058733247220516205, John, in], [0.057893041521310806, F., park], [0.05453860014677048, America, fun], [0.05384068563580513, that, America], [0.05178733915090561, America, a], [0.05160289257764816, America, a], [0.04411022737622261, John, a], [0.04265927895903587, United, a], [0.042504701763391495, in, a], [0.0365142859518528, Kennedy, of], [0.036216553300619125, the, fun], [0.03525260463356972, that, United], [0.034432634711265564, in, America], [0.03369738534092903, Kennedy, of], [0.03276040032505989, Kennedy, that], [0.029041098430752754, America, of], [0.02727692946791649, F., in], [0.026119733229279518, that, States], [0.026092929765582085, F., of], [0.0258075799793005, United, park], [0.024922994896769524, of, is], [0.02290300466120243, States, that], [0.018339531496167183, in, the], [0.015570519492030144, F., a], [0.01538144238293171, a, park], [0.013981133699417114, Kennedy, a], [0.012577365152537823, said, States], [0.01248452439904213, Kennedy, said], [0.009448516182601452, United, that], [0.008800894021987915, the, that], [0.008361546322703362, the, park], [0.0073244525119662285, is, park], [0.005411445163190365, said, United], [0.0031367894262075424, said, States], [0.0005364626995287836, said, park], [-0.0025867174845188856, in, United], [-0.01048339530825615, said, in], [-0.010874569416046143, the, is], [-0.011053278110921383, the, is], [-0.011574502103030682, said, fun], [-0.011684438213706017, in, fun], [-0.013479994609951973, F., that], [-0.014892000705003738, is, a], [-0.016974998638033867, that, a], [-0.01710599474608898, in, park], [-0.01976405829191208, of, fun], [-0.02177821286022663, of, fun], [-0.0229293555021286, that, is], [-0.02522878907620907, said, America], [-0.02746426686644554, States, fun], [-0.028131090104579926, in, United], [-0.031060390174388885, said, United], [-0.038593415170907974, the, of], [-0.041236910969018936, the, park], [-0.04448609799146652, said, a], [-0.045955777168273926, the, fun], [-0.048875562846660614, States, a], [-0.05784802883863449, States, fun], [-0.05864459276199341, said, America], [-0.06300187110900879, said, the], [-0.06660212576389313, John, said], [-0.06862437725067139, in, that], [-0.07101248949766159, United, is], [-0.0712292417883873, of, the], [-0.0743166133761406, said, that], [-0.08419983834028244, said, of], [-0.09400663524866104, States, a], [-0.10045166313648224, said, of], [-0.1114916130900383, John, is], [-0.11370362341403961, F., said], [-0.11801401525735855, United, is], [-0.12392708659172058, is, fun], [-0.125187948346138, of, park], [-0.1321202963590622, of, park], [-0.13739071786403656, F., is], [-0.16805028915405273, said, the], [-0.17037145793437958, that, park], [-0.19781960546970367, that, fun]]\n"
     ]
    },
    {
     "name": "stderr",
     "output_type": "stream",
     "text": [
      "/tmp/ipykernel_65782/2495573428.py:10: UserWarning: [W007] The model you're using has no word vectors loaded, so the result of the Token.similarity method will be based on the tagger, parser and NER, which may not give useful similarity judgements. This may happen if you're using one of the small models, e.g. `en_core_web_sm`, which don't ship with word vectors and only use context-sensitive tensors. You can always add your own word vectors, or use one of the larger models instead if available.\n",
      "  similarities.append([tokens[token1].similarity(tokens[token2]),tokens[token1],tokens[token2]])\n"
     ]
    }
   ],
   "source": [
    "print(get_highest_word_similarity(x))"
   ]
  },
  {
   "cell_type": "code",
   "execution_count": null,
   "metadata": {},
   "outputs": [],
   "source": []
  }
 ],
 "metadata": {
  "kernelspec": {
   "display_name": "Python 3",
   "language": "python",
   "name": "python3"
  },
  "language_info": {
   "codemirror_mode": {
    "name": "ipython",
    "version": 3
   },
   "file_extension": ".py",
   "mimetype": "text/x-python",
   "name": "python",
   "nbconvert_exporter": "python",
   "pygments_lexer": "ipython3",
   "version": "3.8.10"
  },
  "vscode": {
   "interpreter": {
    "hash": "e7370f93d1d0cde622a1f8e1c04877d8463912d04d973331ad4851f04de6915a"
   }
  }
 },
 "nbformat": 4,
 "nbformat_minor": 5
}
