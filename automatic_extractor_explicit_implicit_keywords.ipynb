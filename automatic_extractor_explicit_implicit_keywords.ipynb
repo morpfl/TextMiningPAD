{
 "cells": [
  {
   "cell_type": "markdown",
   "id": "94e4a9fc",
   "metadata": {},
   "source": [
    "# Automatic Extraction of Explicit and Implicit Keywords"
   ]
  },
  {
   "cell_type": "markdown",
   "id": "c274aaaf",
   "metadata": {},
   "source": [
    "> 1) Extract Relevant Expressions (REs) from a set of several documents, by using LocalMaxs extractor you have implemented. Create adequate criteria to select the most informative REs."
   ]
  },
  {
   "cell_type": "code",
   "execution_count": 2,
   "id": "4d793846",
   "metadata": {},
   "outputs": [],
   "source": [
    "# until we finish LocalMaxs extractor use mock list of REs\n",
    "res = ['John F. Kennedy', 'he said', \n",
    "       'in the United States of America', \n",
    "       'United States of America',\n",
    "       'fun park']\n",
    "# still might be useful to have the corpus \n",
    "# (maybe we can export creating it from the other notebook)\n",
    "corpus = []"
   ]
  },
  {
   "cell_type": "markdown",
   "id": "ab0dd1d8",
   "metadata": {},
   "source": [
    "Define filters to be used to extract most informative REs:"
   ]
  },
  {
   "cell_type": "code",
   "execution_count": 3,
   "id": "b7eaab6c",
   "metadata": {},
   "outputs": [
    {
     "ename": "IndentationError",
     "evalue": "expected an indented block (2283056296.py, line 2)",
     "output_type": "error",
     "traceback": [
      "\u001b[0;36m  Input \u001b[0;32mIn [3]\u001b[0;36m\u001b[0m\n\u001b[0;31m    # return only res which appear at least min_freq times\u001b[0m\n\u001b[0m                                                          ^\u001b[0m\n\u001b[0;31mIndentationError\u001b[0m\u001b[0;31m:\u001b[0m expected an indented block\n"
     ]
    }
   ],
   "source": [
    "def min_freq(res, corpus, min_freq):\n",
    "    # return only res which appear at least min_freq times"
   ]
  }
 ],
 "metadata": {
  "kernelspec": {
   "display_name": "Python 3 (ipykernel)",
   "language": "python",
   "name": "python3"
  },
  "language_info": {
   "codemirror_mode": {
    "name": "ipython",
    "version": 3
   },
   "file_extension": ".py",
   "mimetype": "text/x-python",
   "name": "python",
   "nbconvert_exporter": "python",
   "pygments_lexer": "ipython3",
   "version": "3.9.12"
  }
 },
 "nbformat": 4,
 "nbformat_minor": 5
}
